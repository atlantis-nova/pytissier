{
 "cells": [
  {
   "cell_type": "code",
   "execution_count": 2,
   "metadata": {},
   "outputs": [],
   "source": [
    "import os\n",
    "# set current directory as the repo base root\n",
    "os.chdir('\\\\'.join(os.getcwd().split('\\\\')[:-1]))"
   ]
  },
  {
   "cell_type": "code",
   "execution_count": 3,
   "metadata": {},
   "outputs": [
    {
     "data": {
      "text/plain": [
       "{'flower': 1000, 'butter': 500.0, 'granulated_sugar': 500.0, 'water': 125}"
      ]
     },
     "execution_count": 3,
     "metadata": {},
     "output_type": "execute_result"
    }
   ],
   "source": [
    "from pytissier import pychef\n",
    "\n",
    "mychef = pychef.recipe_generator()\n",
    "\n",
    "mychef.shortcrust_pastry(\n",
    "    butter_percentage=0.50, \n",
    "    sugar_percentage=0.50, \n",
    "    sugar_type='granulated_sugar', \n",
    "    liquid_type='water'\n",
    ")"
   ]
  }
 ],
 "metadata": {
  "kernelspec": {
   "display_name": "Python 3",
   "language": "python",
   "name": "python3"
  },
  "language_info": {
   "codemirror_mode": {
    "name": "ipython",
    "version": 3
   },
   "file_extension": ".py",
   "mimetype": "text/x-python",
   "name": "python",
   "nbconvert_exporter": "python",
   "pygments_lexer": "ipython3",
   "version": "3.11.9"
  }
 },
 "nbformat": 4,
 "nbformat_minor": 2
}
