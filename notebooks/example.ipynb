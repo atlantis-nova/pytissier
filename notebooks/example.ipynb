{
 "cells": [
  {
   "cell_type": "code",
   "execution_count": 1,
   "metadata": {},
   "outputs": [],
   "source": [
    "import os\n",
    "# set current directory as the repo base root\n",
    "os.chdir('\\\\'.join(os.getcwd().split('\\\\')[:-1]))"
   ]
  },
  {
   "cell_type": "code",
   "execution_count": 10,
   "metadata": {},
   "outputs": [
    {
     "data": {
      "text/plain": [
       "{'flower': 1000, 'butter': 500.0, 'icing': 550.0, 'eggwhites': 89}"
      ]
     },
     "execution_count": 10,
     "metadata": {},
     "output_type": "execute_result"
    }
   ],
   "source": [
    "from pytissier import pychef\n",
    "\n",
    "mychef = pychef.recipe_generator()\n",
    "\n",
    "mychef.shortcrust_pastry(\n",
    "    butter_percentage=0.50, \n",
    "    sugar_percentage=0.50, \n",
    "    dough_type='regular',\n",
    "    sugar_type='icing', \n",
    "    liquid_type='eggwhites'\n",
    ")"
   ]
  }
 ],
 "metadata": {
  "kernelspec": {
   "display_name": "Python 3",
   "language": "python",
   "name": "python3"
  },
  "language_info": {
   "codemirror_mode": {
    "name": "ipython",
    "version": 3
   },
   "file_extension": ".py",
   "mimetype": "text/x-python",
   "name": "python",
   "nbconvert_exporter": "python",
   "pygments_lexer": "ipython3",
   "version": "3.11.9"
  }
 },
 "nbformat": 4,
 "nbformat_minor": 2
}
